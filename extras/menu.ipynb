{
 "cells": [
  {
   "cell_type": "code",
   "execution_count": 35,
   "metadata": {},
   "outputs": [
    {
     "name": "stdout",
     "output_type": "stream",
     "text": [
      "Item name                 | Price  | Quantity\n",
      "--------------------------|--------|----------\n",
      "Cookie                    | $0.99  | 2\n",
      "Teriyaki Chicken          | $9.99  | 1\n",
      "Soda - Large              | $2.99  | 3\n",
      "Cheesecake - Strawberry   | $6.49  | 1\n",
      "Green Tea                 | $2.49  | 2\n",
      "Pizza - Pepperoni         | $12.99 | 1\n",
      "--------------------------|--------|----------\n",
      "Total cost of the order: ** $45.40 **\n"
     ]
    }
   ],
   "source": [
    "customer_order = [\n",
    "    {\n",
    "        \"Item name\": \"Cookie\",\n",
    "        \"Price\": 0.99,\n",
    "        \"Quantity\": 2\n",
    "    },\n",
    "    {\n",
    "        \"Item name\": \"Teriyaki Chicken\",\n",
    "        \"Price\": 9.99,\n",
    "        \"Quantity\": 1\n",
    "    },\n",
    "    {\n",
    "        \"Item name\": \"Soda - Large\",\n",
    "        \"Price\": 2.99,\n",
    "        \"Quantity\": 3\n",
    "    },\n",
    "    {\n",
    "        \"Item name\": \"Cheesecake - Strawberry\",\n",
    "        \"Price\": 6.49,\n",
    "        \"Quantity\": 1\n",
    "    },\n",
    "    {\n",
    "        \"Item name\": \"Green Tea\",\n",
    "        \"Price\": 2.49,\n",
    "        \"Quantity\": 2\n",
    "    },\n",
    "    {\n",
    "        \"Item name\": \"Pizza - Pepperoni\",\n",
    "        \"Price\": 12.99,\n",
    "        \"Quantity\": 1\n",
    "    }\n",
    "]\n",
    "\n",
    "\n",
    "print(\"Item name                 | Price  | Quantity\")\n",
    "print(\"--------------------------|--------|----------\")\n",
    "\n",
    "\n",
    "# 6. Loop through the items in the customer's order\n",
    "for order_item in customer_order:\n",
    "    # 7. Store the dictionary items as variables\n",
    "    item_name = order_item[\"Item name\"]\n",
    "    price = order_item[\"Price\"]\n",
    "    quantity = order_item[\"Quantity\"]\n",
    "\n",
    "    # 8. Calculate the number of spaces for formatted printing\n",
    "    num_item_spaces = 26 - len(item_name)\n",
    "    num_price_spaces = 6 - len(str(price))\n",
    "\n",
    "    # 9. Create space strings\n",
    "    item_spaces = \" \" * num_item_spaces\n",
    "    price_spaces = \" \" * num_price_spaces\n",
    " \n",
    "    # 10. Print the item name, price, and quantity\n",
    "    print(f\"{item_name}{item_spaces}| ${price}{price_spaces}| {quantity}\")\n",
    "\n",
    "\n",
    "total_cost = sum([order_item[\"Price\"] * order_item[\"Quantity\"] for order_item in customer_order])\n",
    "print(\"--------------------------|--------|----------\")\n",
    "print(f\"Total cost of the order: ** ${total_cost:.2f} **\")\n"
   ]
  }
 ],
 "metadata": {
  "kernelspec": {
   "display_name": "dev_matt",
   "language": "python",
   "name": "python3"
  },
  "language_info": {
   "codemirror_mode": {
    "name": "ipython",
    "version": 3
   },
   "file_extension": ".py",
   "mimetype": "text/x-python",
   "name": "python",
   "nbconvert_exporter": "python",
   "pygments_lexer": "ipython3",
   "version": "3.10.13"
  }
 },
 "nbformat": 4,
 "nbformat_minor": 2
}
